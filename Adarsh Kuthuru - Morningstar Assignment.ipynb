{
 "cells": [
  {
   "cell_type": "markdown",
   "metadata": {},
   "source": [
    "1. Import Libraries"
   ]
  },
  {
   "cell_type": "code",
   "execution_count": 43,
   "metadata": {},
   "outputs": [],
   "source": [
    "import pandas as pd\n",
    "from pandas import json_normalize\n",
    "import numpy as np\n",
    "import datetime as dt\n",
    "\n",
    "%matplotlib inline\n",
    "import matplotlib.pyplot as plt\n",
    "from matplotlib import style\n",
    "import seaborn as sns   "
   ]
  },
  {
   "cell_type": "markdown",
   "metadata": {},
   "source": [
    "2. Extracting Data using API"
   ]
  },
  {
   "cell_type": "code",
   "execution_count": 68,
   "metadata": {
    "scrolled": true
   },
   "outputs": [],
   "source": [
    "import requests\n",
    "import json\n",
    "Data_API = requests.get('https://data.cityofnewyork.us/resource/erm2-nwe9.json')\n",
    "Data = Data_API.text\n",
    "parse_json=json.loads(Data) #parses the json objects"
   ]
  },
  {
   "cell_type": "code",
   "execution_count": 94,
   "metadata": {},
   "outputs": [
    {
     "name": "stdout",
     "output_type": "stream",
     "text": [
      "  unique_key        created_date agency                      agency_name  \\\n",
      "0   52558908 2021-11-19 02:10:56   NYPD  New York City Police Department   \n",
      "1   52557845 2021-11-19 02:10:24   NYPD  New York City Police Department   \n",
      "2   52556870 2021-11-19 02:09:41   NYPD  New York City Police Department   \n",
      "3   52561303 2021-11-19 02:09:36   NYPD  New York City Police Department   \n",
      "4   52561166 2021-11-19 02:09:35   NYPD  New York City Police Department   \n",
      "\n",
      "        complaint_type        descriptor               location_type  \\\n",
      "0      Illegal Parking   Blocked Hydrant             Street/Sidewalk   \n",
      "1      Noise - Vehicle    Car/Truck Horn             Street/Sidewalk   \n",
      "2  Noise - Residential  Loud Music/Party  Residential Building/House   \n",
      "3  Noise - Residential  Loud Music/Party  Residential Building/House   \n",
      "4   Noise - Commercial  Loud Music/Party         Club/Bar/Restaurant   \n",
      "\n",
      "  incident_zip         incident_address         street_name  ...  \\\n",
      "0        11385     1727 STANHOPE STREET     STANHOPE STREET  ...   \n",
      "1        10463  3424 KINGSBRIDGE AVENUE  KINGSBRIDGE AVENUE  ...   \n",
      "2        10473        1785 STORY AVENUE        STORY AVENUE  ...   \n",
      "3        11369          91-01 32 AVENUE           32 AVENUE  ...   \n",
      "4        11361         213-10 41 AVENUE           41 AVENUE  ...   \n",
      "\n",
      "  bridge_highway_segment bridge_highway_direction resolution_description  \\\n",
      "0                    NaN                      NaN                    NaN   \n",
      "1                    NaN                      NaN                    NaN   \n",
      "2                    NaN                      NaN                    NaN   \n",
      "3                    NaN                      NaN                    NaN   \n",
      "4                    NaN                      NaN                    NaN   \n",
      "\n",
      "  resolution_action_updated_date closed_date taxi_pick_up_location  \\\n",
      "0                            NaN         NaT                   NaN   \n",
      "1                            NaN         NaT                   NaN   \n",
      "2                            NaN         NaT                   NaN   \n",
      "3                            NaN         NaT                   NaN   \n",
      "4                            NaN         NaT                   NaN   \n",
      "\n",
      "  taxi_company_borough facility_type road_ramp Request_Closing_Time  \n",
      "0                  NaN           NaN       NaN                  NaT  \n",
      "1                  NaN           NaN       NaN                  NaT  \n",
      "2                  NaN           NaN       NaN                  NaT  \n",
      "3                  NaN           NaN       NaN                  NaT  \n",
      "4                  NaN           NaN       NaN                  NaT  \n",
      "\n",
      "[5 rows x 47 columns]\n"
     ]
    }
   ],
   "source": [
    "#parse_json['location'] = parse_json['location'].apply(lambda x: {} if pd.isna(x) else x)\n",
    "#df = json_normalize(parse_json, record_path=[['location']])\n",
    "df = json_normalize(parse_json)\n",
    "df['created_date'] = pd.to_datetime(df['created_date'])\n",
    "df['closed_date'] = pd.to_datetime(df['closed_date'])\n",
    "df['Request_Closing_Time'] = df['created_date'] - df['closed_date']\n",
    "#print(df.loc[1,:]) #prints first row of the dataset\n",
    "print(df.head())"
   ]
  },
  {
   "cell_type": "code",
   "execution_count": 95,
   "metadata": {},
   "outputs": [
    {
     "data": {
      "text/plain": [
       "<AxesSubplot:>"
      ]
     },
     "execution_count": 95,
     "metadata": {},
     "output_type": "execute_result"
    },
    {
     "data": {
      "image/png": "[encoded data removed]",
      "text/plain": [
       "<Figure size 432x288 with 1 Axes>"
      ]
     },
     "metadata": {
      "needs_background": "light"
     },
     "output_type": "display_data"
    }
   ],
   "source": [
    "sns.heatmap(df.isnull(),yticklabels=False,cbar=False,cmap='viridis') #heat map of missing data"
   ]
  },
  {
   "cell_type": "code",
   "execution_count": 86,
   "metadata": {
    "scrolled": false
   },
   "outputs": [
    {
     "name": "stderr",
     "output_type": "stream",
     "text": [
      "/Users/adarshkp/opt/anaconda3/lib/python3.8/site-packages/IPython/core/interactiveshell.py:3146: DtypeWarning: Columns (8,17,18,20,31,32,33,34,35,36,37) have mixed types.Specify dtype option on import or set low_memory=False.\n",
      "  has_raised = await self.run_ast_nodes(code_ast.body, cell_name,\n"
     ]
    },
    {
     "name": "stdout",
     "output_type": "stream",
     "text": [
      "   Unique Key            Created Date             Closed Date Agency  \\\n",
      "0    21739884  10/26/2011 07:31:00 PM  12/23/2011 12:00:00 PM   DSNY   \n",
      "1    21738939  10/26/2011 10:31:00 AM  10/26/2011 01:10:00 PM    DEP   \n",
      "2    21738160  10/26/2011 12:00:00 AM  11/10/2011 12:00:00 AM    HPD   \n",
      "3    21738643  10/26/2011 12:00:00 AM  10/26/2011 12:00:00 AM    HPD   \n",
      "4    21739724  10/26/2011 12:00:00 AM  10/31/2011 12:00:00 AM    HPD   \n",
      "\n",
      "                                         Agency Name    Complaint Type  \\\n",
      "0                            P - Manhattan and Bronx  Dirty Conditions   \n",
      "1             Department of Environmental Protection             Sewer   \n",
      "2  Department of Housing Preservation and Develop...          PLUMBING   \n",
      "3  Department of Housing Preservation and Develop...           HEATING   \n",
      "4  Department of Housing Preservation and Develop...           HEATING   \n",
      "\n",
      "                         Descriptor         Location Type Incident Zip  \\\n",
      "0  E12 Illegal Dumping Surveillance              Sidewalk        10458   \n",
      "1  Sewer Backup (Use Comments) (SA)                   NaN        11102   \n",
      "2                       WATER-LEAKS  RESIDENTIAL BUILDING        11225   \n",
      "3                              HEAT  RESIDENTIAL BUILDING        11236   \n",
      "4                              HEAT  RESIDENTIAL BUILDING        10456   \n",
      "\n",
      "          Incident Address  ... Vehicle Type Taxi Company Borough  \\\n",
      "0   2423 CAMBRELENG AVENUE  ...          NaN                  NaN   \n",
      "1  23-05 ASTORIA BOULEVARD  ...          NaN                  NaN   \n",
      "2       489 MIDWOOD STREET  ...          NaN                  NaN   \n",
      "3      1169 EAST 80 STREET  ...          NaN                  NaN   \n",
      "4            3271 3 AVENUE  ...          NaN                  NaN   \n",
      "\n",
      "  Taxi Pick Up Location Bridge Highway Name Bridge Highway Direction  \\\n",
      "0                   NaN                 NaN                      NaN   \n",
      "1                   NaN                 NaN                      NaN   \n",
      "2                   NaN                 NaN                      NaN   \n",
      "3                   NaN                 NaN                      NaN   \n",
      "4                   NaN                 NaN                      NaN   \n",
      "\n",
      "  Road Ramp Bridge Highway Segment   Latitude  Longitude  \\\n",
      "0       NaN                    NaN  40.855093 -73.884935   \n",
      "1       NaN                    NaN  40.771719 -73.924194   \n",
      "2       NaN                    NaN  40.660516 -73.944292   \n",
      "3       NaN                    NaN  40.631104 -73.907929   \n",
      "4       NaN                    NaN  40.824868 -73.908380   \n",
      "\n",
      "                                   Location  \n",
      "0   (40.85509340131799, -73.88493530762781)  \n",
      "1   (40.77171927047292, -73.92419376703837)  \n",
      "2   (40.660515782814635, -73.9442916673507)  \n",
      "3  (40.631104004393514, -73.90792864374247)  \n",
      "4  (40.824867693955554, -73.90837957440094)  \n",
      "\n",
      "[5 rows x 41 columns]\n"
     ]
    }
   ],
   "source": [
    "df1=pd.read_csv('311_Service_Requests_from_2010_to_Present.csv')\n",
    "print(df1.head())"
   ]
  },
  {
   "cell_type": "code",
   "execution_count": null,
   "metadata": {},
   "outputs": [],
   "source": [
    "sns.heatmap(df1.isnull(),yticklabels=False,cbar=False,cmap='viridis') #heat map of missing data"
   ]
  },
  {
   "cell_type": "code",
   "execution_count": null,
   "metadata": {},
   "outputs": [],
   "source": []
  }
 ],
 "metadata": {
  "kernelspec": {
   "display_name": "Python 3",
   "language": "python",
   "name": "python3"
  },
  "language_info": {
   "codemirror_mode": {
    "name": "ipython",
    "version": 3
   },
   "file_extension": ".py",
   "mimetype": "text/x-python",
   "name": "python",
   "nbconvert_exporter": "python",
   "pygments_lexer": "ipython3",
   "version": "3.8.5"
  }
 },
 "nbformat": 4,
 "nbformat_minor": 4
}
