{
 "cells": [
  {
   "cell_type": "markdown",
   "metadata": {},
   "source": [
    "# 1. Import Dependent Libraries"
   ]
  },
  {
   "cell_type": "code",
   "execution_count": 5,
   "metadata": {
    "scrolled": true
   },
   "outputs": [],
   "source": [
    "import pandas as pd\n",
    "#from pandas import json_normalize\n",
    "import numpy as np\n",
    "import datetime as dt\n",
    "#import csv\n",
    "\n",
    "%matplotlib inline\n",
    "import matplotlib.pyplot as plt\n",
    "import plotly as px\n",
    "from matplotlib import style\n",
    "import seaborn as sns \n",
    "import plotly.express as pxx"
   ]
  },
  {
   "cell_type": "markdown",
   "metadata": {},
   "source": [
    "Resolve issue with pandas package"
   ]
  },
  {
   "cell_type": "code",
   "execution_count": 140,
   "metadata": {},
   "outputs": [
    {
     "name": "stdout",
     "output_type": "stream",
     "text": [
      "/Users/adarshkp/opt/anaconda3/lib/python3.8/site-packages/pandas/__init__.py\n"
     ]
    }
   ],
   "source": [
    "from importlib.machinery import SourceFileLoader\n",
    "\n",
    "# imports the module from the given path\n",
    "foo = SourceFileLoader(\"pandas\",\"/Users/adarshkp/opt/anaconda3/lib/python3.8/site-packages/pandas/__init__.py\").load_module()\n",
    "print(pd.__file__)\n",
    "#dir(pd)\n",
    "\n",
    "import warnings\n",
    "warnings.filterwarnings('ignore')"
   ]
  },
  {
   "cell_type": "markdown",
   "metadata": {},
   "source": [
    "# 2. Importing 311 Service Requests Data\n",
    "\n",
    "#### Comments: I tried at least 4 methods for the analysis including SODA API/JSON objects parsing, Google-colab/Google Drive, AWS EC2 server+FTP/SCP, Pandas on local server as the dataset is large. The cloud tools I used were free versions so it kept disconnecting. Finally had to create a concise dataset and use it for the analysis on my local machine"
   ]
  },
  {
   "cell_type": "markdown",
   "metadata": {},
   "source": [
    "#### 2.1. Import data from Socrata Open Data API (Soda)"
   ]
  },
  {
   "cell_type": "code",
   "execution_count": 4,
   "metadata": {
    "scrolled": false
   },
   "outputs": [],
   "source": [
    "# from sodapy import Socrata #install sodapy from pip and then import dataset\n",
    "\n",
    "# client = Socrata(\"data.cityofnewyork.us\", None)\n",
    "# client.timeout = 1000\n",
    "# results = client.get(\"erm2-nwe9\", limit=1500000)\n",
    "# df = pd.DataFrame.from_records(results)"
   ]
  },
  {
   "cell_type": "markdown",
   "metadata": {},
   "source": [
    "#### 2.2. Google-colab authorization and importing data from Google Drive"
   ]
  },
  {
   "cell_type": "code",
   "execution_count": 5,
   "metadata": {},
   "outputs": [],
   "source": [
    "# from pydrive.auth import GoogleAuth #!pip install -U -q PyDrive\n",
    "# from pydrive.drive import GoogleDrive\n",
    "# from google.colab import auth #!pip install google-colab\n",
    "# from oauth2client.client import GoogleCredentials\n",
    "\n",
    "# #to import files from google drive\n",
    "# from google.colab import drive\n",
    "# drive.mount('/content/gdrive')\n",
    "# df=pd.read_csv('/content/gdrive/My Drive/Colab Notebooks/311_Service_Requests_from_2010_to_Present.csv')\n",
    "#### \n",
    "# auth.authenticate_user()\n",
    "# gauth = GoogleAuth()\n",
    "# gauth.credentials = GoogleCredentials.get_application_default()\n",
    "# drive = GoogleDrive(gauth)"
   ]
  },
  {
   "cell_type": "markdown",
   "metadata": {},
   "source": [
    "#### 2.3. Importing JSON objects using API and flattening \n",
    "#### --Only imports first 1000 obs--"
   ]
  },
  {
   "cell_type": "code",
   "execution_count": 6,
   "metadata": {
    "scrolled": false
   },
   "outputs": [],
   "source": [
    "# import requests\n",
    "# import json\n",
    "# Data_API = requests.get('https://data.cityofnewyork.us/resource/erm2-nwe9.json')\n",
    "# Data = Data_API.text\n",
    "# parse_json=json.loads(Data) #parses the json objects\n",
    "# df = json_normalize(parse_json) #flatterns the json object to form a dataframe"
   ]
  },
  {
   "cell_type": "markdown",
   "metadata": {},
   "source": [
    "#### 2.4. Importing data from a csv file in a local directory"
   ]
  },
  {
   "cell_type": "code",
   "execution_count": 16,
   "metadata": {
    "scrolled": false
   },
   "outputs": [
    {
     "name": "stdout",
     "output_type": "stream",
     "text": [
      "(25839156, 11)\n",
      "<class 'pandas.core.frame.DataFrame'>\n",
      "Int64Index: 25839156 entries, 0 to 27116296\n",
      "Data columns (total 11 columns):\n",
      " #   Column          Dtype  \n",
      "---  ------          -----  \n",
      " 0   Unique Key      int64  \n",
      " 1   Created Date    object \n",
      " 2   Closed Date     object \n",
      " 3   Agency          object \n",
      " 4   Complaint Type  object \n",
      " 5   Descriptor      object \n",
      " 6   Borough         object \n",
      " 7   Incident Zip    object \n",
      " 8   Latitude        float64\n",
      " 9   Longitude       float64\n",
      " 10  Location        object \n",
      "dtypes: float64(2), int64(1), object(8)\n",
      "memory usage: 2.3+ GB\n",
      "None\n"
     ]
    }
   ],
   "source": [
    "df=pd.read_csv('311_Service_Requests_from_2010_to_Present.csv')\n",
    "#print(df.columns) #prints column names\n",
    "\n",
    "#include only essential columns\n",
    "df = df[['Unique Key', 'Created Date', 'Closed Date', 'Agency', 'Complaint Type', 'Descriptor', 'Borough',\n",
    "         'Incident Zip','Latitude', 'Longitude', 'Location']]\n",
    "\n",
    "\n",
    "Borough_list=['BRONX','BROOKLYN','MANHATTAN','QUEENS','STATEN ISLAND']\n",
    "df=df[df['Borough'].isin(Borough_list)] #drops observations of boroughs not in the above list\n",
    "\n",
    "print(df.shape) #dimensions of the dataframe\n",
    "print(df.info()) #gives basic characteristics of the dataset\n",
    "#df.describe().loc[['mean','std', 'min', 'max']] #summary statistics\n",
    "\n",
    "#df['created_date'] = pd.to_datetime(df['created_date']) #converts to time object \n",
    "#df['closed_date'] = pd.to_datetime(df['closed_date'])\n",
    "#df['Request_Duration'] = df['created_date'] - df['closed_date'] #creates a new variable-Request_Duration\n",
    "#print(df.iloc[1,:]) #prints first row of the dataset\n"
   ]
  },
  {
   "cell_type": "markdown",
   "metadata": {},
   "source": [
    "  "
   ]
  },
  {
   "cell_type": "markdown",
   "metadata": {},
   "source": [
    "# 3. Checking for missing values \n",
    "\n",
    "####      --yellow color in the below plot represents missing values--"
   ]
  },
  {
   "cell_type": "code",
   "execution_count": 68,
   "metadata": {
    "scrolled": false
   },
   "outputs": [],
   "source": [
    "plt.figure(figsize=(8, 8))      #figsize in inches\n",
    "sns.heatmap(df.isnull(),xticklabels=True,cbar=False,cmap='viridis') #heat map of missing data\n",
    "plt.show()"
   ]
  },
  {
   "cell_type": "markdown",
   "metadata": {},
   "source": [
    "#### Comments: From the above plot, it seems like there are not many missing observations in the key variables about to be used in this analysis"
   ]
  },
  {
   "cell_type": "markdown",
   "metadata": {},
   "source": [
    "\n",
    "\n",
    "\n",
    "# 4. 2017 Reporting\n",
    "## 4.1. Question-1"
   ]
  },
  {
   "cell_type": "markdown",
   "metadata": {},
   "source": [
    "#### 4.1.1. Create year and month variables and estimate number of observations by each year"
   ]
  },
  {
   "cell_type": "code",
   "execution_count": null,
   "metadata": {
    "scrolled": true
   },
   "outputs": [],
   "source": [
    "df['Year_month'] = pd.DatetimeIndex(df['Created Date']).strftime('%Y-%m')\n",
    "df['Year'] = pd.DatetimeIndex(df['Created Date']).year #creates year variable\n",
    "df['Month'] = pd.DatetimeIndex(df['Created Date']).month #creates month variable\n",
    "df.to_csv('df.csv', index=False) #saves the above file in csv format\n",
    "#type(data)#### \n",
    "#df['Year'].value_counts() #num of observations by each year"
   ]
  },
  {
   "cell_type": "code",
   "execution_count": 32,
   "metadata": {},
   "outputs": [
    {
     "data": {
      "text/html": [
       "<div>\n",
       "<style scoped>\n",
       "    .dataframe tbody tr th:only-of-type {\n",
       "        vertical-align: middle;\n",
       "    }\n",
       "\n",
       "    .dataframe tbody tr th {\n",
       "        vertical-align: top;\n",
       "    }\n",
       "\n",
       "    .dataframe thead th {\n",
       "        text-align: right;\n",
       "    }\n",
       "</style>\n",
       "<table border=\"1\" class=\"dataframe\">\n",
       "  <thead>\n",
       "    <tr style=\"text-align: right;\">\n",
       "      <th></th>\n",
       "      <th>Unique Key</th>\n",
       "      <th>Created Date</th>\n",
       "      <th>Closed Date</th>\n",
       "      <th>Agency</th>\n",
       "      <th>Complaint Type</th>\n",
       "      <th>Descriptor</th>\n",
       "      <th>Borough</th>\n",
       "      <th>Incident Zip</th>\n",
       "      <th>Latitude</th>\n",
       "      <th>Longitude</th>\n",
       "      <th>Location</th>\n",
       "      <th>Year_month</th>\n",
       "      <th>Year</th>\n",
       "      <th>Month</th>\n",
       "    </tr>\n",
       "  </thead>\n",
       "  <tbody>\n",
       "    <tr>\n",
       "      <th>0</th>\n",
       "      <td>21739884</td>\n",
       "      <td>10/26/2011 07:31:00 PM</td>\n",
       "      <td>12/23/2011 12:00:00 PM</td>\n",
       "      <td>DSNY</td>\n",
       "      <td>Dirty Conditions</td>\n",
       "      <td>E12 Illegal Dumping Surveillance</td>\n",
       "      <td>BRONX</td>\n",
       "      <td>10458</td>\n",
       "      <td>40.855093</td>\n",
       "      <td>-73.884935</td>\n",
       "      <td>(40.85509340131799, -73.88493530762781)</td>\n",
       "      <td>2011-10</td>\n",
       "      <td>2011</td>\n",
       "      <td>10</td>\n",
       "    </tr>\n",
       "    <tr>\n",
       "      <th>1</th>\n",
       "      <td>21738939</td>\n",
       "      <td>10/26/2011 10:31:00 AM</td>\n",
       "      <td>10/26/2011 01:10:00 PM</td>\n",
       "      <td>DEP</td>\n",
       "      <td>Sewer</td>\n",
       "      <td>Sewer Backup (Use Comments) (SA)</td>\n",
       "      <td>QUEENS</td>\n",
       "      <td>11102</td>\n",
       "      <td>40.771719</td>\n",
       "      <td>-73.924194</td>\n",
       "      <td>(40.77171927047292, -73.92419376703837)</td>\n",
       "      <td>2011-10</td>\n",
       "      <td>2011</td>\n",
       "      <td>10</td>\n",
       "    </tr>\n",
       "    <tr>\n",
       "      <th>2</th>\n",
       "      <td>21738160</td>\n",
       "      <td>10/26/2011 12:00:00 AM</td>\n",
       "      <td>11/10/2011 12:00:00 AM</td>\n",
       "      <td>HPD</td>\n",
       "      <td>PLUMBING</td>\n",
       "      <td>WATER-LEAKS</td>\n",
       "      <td>BROOKLYN</td>\n",
       "      <td>11225</td>\n",
       "      <td>40.660516</td>\n",
       "      <td>-73.944292</td>\n",
       "      <td>(40.660515782814635, -73.9442916673507)</td>\n",
       "      <td>2011-10</td>\n",
       "      <td>2011</td>\n",
       "      <td>10</td>\n",
       "    </tr>\n",
       "    <tr>\n",
       "      <th>3</th>\n",
       "      <td>21738643</td>\n",
       "      <td>10/26/2011 12:00:00 AM</td>\n",
       "      <td>10/26/2011 12:00:00 AM</td>\n",
       "      <td>HPD</td>\n",
       "      <td>HEATING</td>\n",
       "      <td>HEAT</td>\n",
       "      <td>BROOKLYN</td>\n",
       "      <td>11236</td>\n",
       "      <td>40.631104</td>\n",
       "      <td>-73.907929</td>\n",
       "      <td>(40.631104004393514, -73.90792864374247)</td>\n",
       "      <td>2011-10</td>\n",
       "      <td>2011</td>\n",
       "      <td>10</td>\n",
       "    </tr>\n",
       "    <tr>\n",
       "      <th>4</th>\n",
       "      <td>21739724</td>\n",
       "      <td>10/26/2011 12:00:00 AM</td>\n",
       "      <td>10/31/2011 12:00:00 AM</td>\n",
       "      <td>HPD</td>\n",
       "      <td>HEATING</td>\n",
       "      <td>HEAT</td>\n",
       "      <td>BRONX</td>\n",
       "      <td>10456</td>\n",
       "      <td>40.824868</td>\n",
       "      <td>-73.908380</td>\n",
       "      <td>(40.824867693955554, -73.90837957440094)</td>\n",
       "      <td>2011-10</td>\n",
       "      <td>2011</td>\n",
       "      <td>10</td>\n",
       "    </tr>\n",
       "  </tbody>\n",
       "</table>\n",
       "</div>"
      ],
      "text/plain": [
       "   Unique Key            Created Date             Closed Date Agency  \\\n",
       "0    21739884  10/26/2011 07:31:00 PM  12/23/2011 12:00:00 PM   DSNY   \n",
       "1    21738939  10/26/2011 10:31:00 AM  10/26/2011 01:10:00 PM    DEP   \n",
       "2    21738160  10/26/2011 12:00:00 AM  11/10/2011 12:00:00 AM    HPD   \n",
       "3    21738643  10/26/2011 12:00:00 AM  10/26/2011 12:00:00 AM    HPD   \n",
       "4    21739724  10/26/2011 12:00:00 AM  10/31/2011 12:00:00 AM    HPD   \n",
       "\n",
       "     Complaint Type                        Descriptor   Borough Incident Zip  \\\n",
       "0  Dirty Conditions  E12 Illegal Dumping Surveillance     BRONX        10458   \n",
       "1             Sewer  Sewer Backup (Use Comments) (SA)    QUEENS        11102   \n",
       "2          PLUMBING                       WATER-LEAKS  BROOKLYN        11225   \n",
       "3           HEATING                              HEAT  BROOKLYN        11236   \n",
       "4           HEATING                              HEAT     BRONX        10456   \n",
       "\n",
       "    Latitude  Longitude                                  Location Year_month  \\\n",
       "0  40.855093 -73.884935   (40.85509340131799, -73.88493530762781)    2011-10   \n",
       "1  40.771719 -73.924194   (40.77171927047292, -73.92419376703837)    2011-10   \n",
       "2  40.660516 -73.944292   (40.660515782814635, -73.9442916673507)    2011-10   \n",
       "3  40.631104 -73.907929  (40.631104004393514, -73.90792864374247)    2011-10   \n",
       "4  40.824868 -73.908380  (40.824867693955554, -73.90837957440094)    2011-10   \n",
       "\n",
       "   Year  Month  \n",
       "0  2011     10  \n",
       "1  2011     10  \n",
       "2  2011     10  \n",
       "3  2011     10  \n",
       "4  2011     10  "
      ]
     },
     "execution_count": 32,
     "metadata": {},
     "output_type": "execute_result"
    }
   ],
   "source": [
    "df.head()"
   ]
  },
  {
   "cell_type": "markdown",
   "metadata": {},
   "source": [
    "#### 4.1.2. Plot to obtain the top 10 complaints by frequency count in 2017"
   ]
  },
  {
   "cell_type": "code",
   "execution_count": 34,
   "metadata": {},
   "outputs": [
    {
     "data": {
      "text/plain": [
       "(2452951, 14)"
      ]
     },
     "execution_count": 34,
     "metadata": {},
     "output_type": "execute_result"
    }
   ],
   "source": [
    "df_2017=df[df['Year']==2017]\n",
    "df_2017.shape"
   ]
  },
  {
   "cell_type": "code",
   "execution_count": 66,
   "metadata": {},
   "outputs": [
    {
     "data": {
      "image/png": "[encoded data removed]",
      "text/plain": [
       "<Figure size 432x432 with 1 Axes>"
      ]
     },
     "metadata": {
      "needs_background": "light"
     },
     "output_type": "display_data"
    }
   ],
   "source": [
    "top_complaints=df_2017['Complaint Type'].value_counts()[:10].index.tolist() #list with names of the complaints\n",
    "\n",
    "#plot for the top complaints in 2017\n",
    "plt.figure(figsize=(6,6))      #figsize in inches\n",
    "#Specify a horizontal barplot ('barh') as kind of plot (kind=)\n",
    "df_2017['Complaint Type'].value_counts()[:10].plot(kind='barh') #plot\n",
    "plt.xlabel('Total Complaints')\n",
    "plt.ylabel('Complaint Type')\n",
    "plt.show()"
   ]
  },
  {
   "cell_type": "markdown",
   "metadata": {},
   "source": [
    "#### 4.1.3. Number of complaints of the top 10 complaint types by each borough in 2017"
   ]
  },
  {
   "cell_type": "code",
   "execution_count": 59,
   "metadata": {
    "scrolled": false
   },
   "outputs": [
    {
     "data": {
      "text/html": [
       "<div>\n",
       "<style scoped>\n",
       "    .dataframe tbody tr th:only-of-type {\n",
       "        vertical-align: middle;\n",
       "    }\n",
       "\n",
       "    .dataframe tbody tr th {\n",
       "        vertical-align: top;\n",
       "    }\n",
       "\n",
       "    .dataframe thead th {\n",
       "        text-align: right;\n",
       "    }\n",
       "</style>\n",
       "<table border=\"1\" class=\"dataframe\">\n",
       "  <thead>\n",
       "    <tr style=\"text-align: right;\">\n",
       "      <th>Borough</th>\n",
       "      <th>BRONX</th>\n",
       "      <th>BROOKLYN</th>\n",
       "      <th>MANHATTAN</th>\n",
       "      <th>QUEENS</th>\n",
       "      <th>STATEN ISLAND</th>\n",
       "    </tr>\n",
       "    <tr>\n",
       "      <th>Complaint Type</th>\n",
       "      <th></th>\n",
       "      <th></th>\n",
       "      <th></th>\n",
       "      <th></th>\n",
       "      <th></th>\n",
       "    </tr>\n",
       "  </thead>\n",
       "  <tbody>\n",
       "    <tr>\n",
       "      <th>Blocked Driveway</th>\n",
       "      <td>24615</td>\n",
       "      <td>49432</td>\n",
       "      <td>3434</td>\n",
       "      <td>54413</td>\n",
       "      <td>3795</td>\n",
       "    </tr>\n",
       "    <tr>\n",
       "      <th>HEAT/HOT WATER</th>\n",
       "      <td>68718</td>\n",
       "      <td>66984</td>\n",
       "      <td>46529</td>\n",
       "      <td>29217</td>\n",
       "      <td>2073</td>\n",
       "    </tr>\n",
       "    <tr>\n",
       "      <th>Illegal Parking</th>\n",
       "      <td>16148</td>\n",
       "      <td>55516</td>\n",
       "      <td>19750</td>\n",
       "      <td>46169</td>\n",
       "      <td>8069</td>\n",
       "    </tr>\n",
       "    <tr>\n",
       "      <th>Noise</th>\n",
       "      <td>3134</td>\n",
       "      <td>15421</td>\n",
       "      <td>29002</td>\n",
       "      <td>10684</td>\n",
       "      <td>1926</td>\n",
       "    </tr>\n",
       "    <tr>\n",
       "      <th>Noise - Residential</th>\n",
       "      <td>57704</td>\n",
       "      <td>67687</td>\n",
       "      <td>51078</td>\n",
       "      <td>46425</td>\n",
       "      <td>7038</td>\n",
       "    </tr>\n",
       "    <tr>\n",
       "      <th>Noise - Street/Sidewalk</th>\n",
       "      <td>14029</td>\n",
       "      <td>21328</td>\n",
       "      <td>29175</td>\n",
       "      <td>7532</td>\n",
       "      <td>868</td>\n",
       "    </tr>\n",
       "    <tr>\n",
       "      <th>Street Condition</th>\n",
       "      <td>11761</td>\n",
       "      <td>25432</td>\n",
       "      <td>14840</td>\n",
       "      <td>30637</td>\n",
       "      <td>10595</td>\n",
       "    </tr>\n",
       "    <tr>\n",
       "      <th>Street Light Condition</th>\n",
       "      <td>18410</td>\n",
       "      <td>22458</td>\n",
       "      <td>11077</td>\n",
       "      <td>24258</td>\n",
       "      <td>6604</td>\n",
       "    </tr>\n",
       "    <tr>\n",
       "      <th>UNSANITARY CONDITION</th>\n",
       "      <td>24561</td>\n",
       "      <td>26659</td>\n",
       "      <td>14635</td>\n",
       "      <td>11474</td>\n",
       "      <td>1953</td>\n",
       "    </tr>\n",
       "    <tr>\n",
       "      <th>Water System</th>\n",
       "      <td>10223</td>\n",
       "      <td>19804</td>\n",
       "      <td>10929</td>\n",
       "      <td>18788</td>\n",
       "      <td>5349</td>\n",
       "    </tr>\n",
       "  </tbody>\n",
       "</table>\n",
       "</div>"
      ],
      "text/plain": [
       "Borough                  BRONX  BROOKLYN  MANHATTAN  QUEENS  STATEN ISLAND\n",
       "Complaint Type                                                            \n",
       "Blocked Driveway         24615     49432       3434   54413           3795\n",
       "HEAT/HOT WATER           68718     66984      46529   29217           2073\n",
       "Illegal Parking          16148     55516      19750   46169           8069\n",
       "Noise                     3134     15421      29002   10684           1926\n",
       "Noise - Residential      57704     67687      51078   46425           7038\n",
       "Noise - Street/Sidewalk  14029     21328      29175    7532            868\n",
       "Street Condition         11761     25432      14840   30637          10595\n",
       "Street Light Condition   18410     22458      11077   24258           6604\n",
       "UNSANITARY CONDITION     24561     26659      14635   11474           1953\n",
       "Water System             10223     19804      10929   18788           5349"
      ]
     },
     "execution_count": 59,
     "metadata": {},
     "output_type": "execute_result"
    }
   ],
   "source": [
    "#Filter the observations having complaint type from the top complaints list\n",
    "df2_2017=df_2017[df_2017['Complaint Type'].isin(top_complaints)] \n",
    "df3_2017 = df2_2017.groupby(['Complaint Type','Borough']) #grouping by 2 columns -'Complaint Type','Borough'\n",
    "df4_2017=df3_2017.size().unstack() #Borough_level_complaint_frequency\n",
    "df4_2017.reset_index(inplace=False) #converts labels to column\n",
    "df4_2017"
   ]
  },
  {
   "cell_type": "markdown",
   "metadata": {},
   "source": [
    "#### 4.1.4.  plot grouped bar chart of the above dataframe"
   ]
  },
  {
   "cell_type": "code",
   "execution_count": 71,
   "metadata": {},
   "outputs": [
    {
     "data": {
      "image/png": "[encoded data removed]",
      "text/plain": [
       "<Figure size 720x720 with 1 Axes>"
      ]
     },
     "metadata": {
      "needs_background": "light"
     },
     "output_type": "display_data"
    }
   ],
   "source": [
    "(df4_2017.reindex(index=df4_2017.mean(axis=1)\n",
    "    .sort_values(ascending=False)\n",
    "    .index).plot(kind='barh', figsize=(10, 10), width=0.75,\n",
    "                 title='Total number of complaints by complaint type for each Borough'))\n",
    "plt.xlabel('Total complaints')\n",
    "plt.show()"
   ]
  },
  {
   "cell_type": "markdown",
   "metadata": {},
   "source": [
    "#### Comments: From the above two plots, it is evident that the highest complaint type in 2017 across all the boroughs in NYC is Noise - Residential, followed by Heat/Hot water, Illegal parking, and the others."
   ]
  },
  {
   "cell_type": "markdown",
   "metadata": {},
   "source": [
    "   "
   ]
  },
  {
   "cell_type": "markdown",
   "metadata": {},
   "source": [
    "# 4.2. Question-2"
   ]
  },
  {
   "cell_type": "markdown",
   "metadata": {},
   "source": [
    "#### 4.2.1. Import population data and convert merging keys to same data type"
   ]
  },
  {
   "cell_type": "code",
   "execution_count": 141,
   "metadata": {
    "scrolled": false
   },
   "outputs": [
    {
     "name": "stdout",
     "output_type": "stream",
     "text": [
      "(32948, 2)\n",
      "Index(['Zip Code ZCTA', '2010 Census Population'], dtype='object')\n"
     ]
    }
   ],
   "source": [
    "pop=pd.read_csv('2010_Census_Population_By_Zipcode.csv')\n",
    "pop=pop.dropna() #delete rows with missing values\n",
    "#drop rows with population=0, otherwise it creates complaint-index = infinity\n",
    "pop.drop(pop[pop['2010 Census Population'] == 0].index, inplace = True) \n",
    "print(pop.shape)\n",
    "print(pop.columns) #column names\n",
    "pop=pop.rename(columns={'Zip Code ZCTA': 'Incident Zip', '2010 Census Population': 'Population'}) #renaming columns\n",
    "df_2017['Incident Zip']= pd.to_numeric(df_2017['Incident Zip'], errors='coerce') #convert string to numeric"
   ]
  },
  {
   "cell_type": "markdown",
   "metadata": {},
   "source": [
    "#### 4.2.2. Form unique zipcode & borough combination table from the original 311 service request dataset"
   ]
  },
  {
   "cell_type": "code",
   "execution_count": 75,
   "metadata": {
    "scrolled": false
   },
   "outputs": [
    {
     "data": {
      "text/html": [
       "<div>\n",
       "<style scoped>\n",
       "    .dataframe tbody tr th:only-of-type {\n",
       "        vertical-align: middle;\n",
       "    }\n",
       "\n",
       "    .dataframe tbody tr th {\n",
       "        vertical-align: top;\n",
       "    }\n",
       "\n",
       "    .dataframe thead th {\n",
       "        text-align: right;\n",
       "    }\n",
       "</style>\n",
       "<table border=\"1\" class=\"dataframe\">\n",
       "  <thead>\n",
       "    <tr style=\"text-align: right;\">\n",
       "      <th></th>\n",
       "      <th>Borough</th>\n",
       "      <th>Incident Zip</th>\n",
       "    </tr>\n",
       "  </thead>\n",
       "  <tbody>\n",
       "    <tr>\n",
       "      <th>1268</th>\n",
       "      <td>BRONX</td>\n",
       "      <td>10453.0</td>\n",
       "    </tr>\n",
       "    <tr>\n",
       "      <th>5264</th>\n",
       "      <td>BROOKLYN</td>\n",
       "      <td>11221.0</td>\n",
       "    </tr>\n",
       "    <tr>\n",
       "      <th>15238</th>\n",
       "      <td>QUEENS</td>\n",
       "      <td>11422.0</td>\n",
       "    </tr>\n",
       "    <tr>\n",
       "      <th>15367</th>\n",
       "      <td>QUEENS</td>\n",
       "      <td>11411.0</td>\n",
       "    </tr>\n",
       "    <tr>\n",
       "      <th>18724</th>\n",
       "      <td>BROOKLYN</td>\n",
       "      <td>11225.0</td>\n",
       "    </tr>\n",
       "  </tbody>\n",
       "</table>\n",
       "</div>"
      ],
      "text/plain": [
       "        Borough  Incident Zip\n",
       "1268      BRONX       10453.0\n",
       "5264   BROOKLYN       11221.0\n",
       "15238    QUEENS       11422.0\n",
       "15367    QUEENS       11411.0\n",
       "18724  BROOKLYN       11225.0"
      ]
     },
     "execution_count": 75,
     "metadata": {},
     "output_type": "execute_result"
    }
   ],
   "source": [
    "Borough_Zip=df_2017[['Borough','Incident Zip']].drop_duplicates()\n",
    "Borough_Zip=Borough_Zip.dropna() #dropping rows with missing values\n",
    "Borough_Zip.head()"
   ]
  },
  {
   "cell_type": "markdown",
   "metadata": {},
   "source": [
    "#### 4.2.3. Calculate total number of complaints by zip code"
   ]
  },
  {
   "cell_type": "code",
   "execution_count": 76,
   "metadata": {
    "scrolled": false
   },
   "outputs": [
    {
     "data": {
      "text/plain": [
       "(265, 2)"
      ]
     },
     "execution_count": 76,
     "metadata": {},
     "output_type": "execute_result"
    }
   ],
   "source": [
    "total_complaints_freq_all = df_2017['Incident Zip'].value_counts().tolist() #list with frequencies of the complaints\n",
    "total_complaints_all = df_2017['Incident Zip'].value_counts().index.tolist() #list with index of zipcodes\n",
    "total_complaints_freq_all =pd.DataFrame(total_complaints_freq_all, columns=['num_complaints'])\n",
    "total_complaints_all =pd.DataFrame(total_complaints_all, columns=['Incident Zip'])\n",
    "df5_2017 = pd.concat([total_complaints_all, total_complaints_freq_all], axis=1)\n",
    "df5_2017.shape\n",
    "#data2.head()"
   ]
  },
  {
   "cell_type": "markdown",
   "metadata": {},
   "source": [
    "#### 4.2.4. Merge population dataset with the above total complaints dataset using zip code as the key"
   ]
  },
  {
   "cell_type": "code",
   "execution_count": 85,
   "metadata": {
    "scrolled": false
   },
   "outputs": [
    {
     "name": "stdout",
     "output_type": "stream",
     "text": [
      "(32948, 2)\n",
      "(265, 3)\n"
     ]
    },
    {
     "data": {
      "text/html": [
       "<div>\n",
       "<style scoped>\n",
       "    .dataframe tbody tr th:only-of-type {\n",
       "        vertical-align: middle;\n",
       "    }\n",
       "\n",
       "    .dataframe tbody tr th {\n",
       "        vertical-align: top;\n",
       "    }\n",
       "\n",
       "    .dataframe thead th {\n",
       "        text-align: right;\n",
       "    }\n",
       "</style>\n",
       "<table border=\"1\" class=\"dataframe\">\n",
       "  <thead>\n",
       "    <tr style=\"text-align: right;\">\n",
       "      <th></th>\n",
       "      <th>Incident Zip</th>\n",
       "      <th>num_complaints</th>\n",
       "      <th>Population</th>\n",
       "    </tr>\n",
       "  </thead>\n",
       "  <tbody>\n",
       "    <tr>\n",
       "      <th>0</th>\n",
       "      <td>11226.0</td>\n",
       "      <td>42462</td>\n",
       "      <td>101572.0</td>\n",
       "    </tr>\n",
       "    <tr>\n",
       "      <th>1</th>\n",
       "      <td>11385.0</td>\n",
       "      <td>35293</td>\n",
       "      <td>98592.0</td>\n",
       "    </tr>\n",
       "    <tr>\n",
       "      <th>2</th>\n",
       "      <td>10467.0</td>\n",
       "      <td>34257</td>\n",
       "      <td>97060.0</td>\n",
       "    </tr>\n",
       "    <tr>\n",
       "      <th>3</th>\n",
       "      <td>11207.0</td>\n",
       "      <td>31063</td>\n",
       "      <td>93386.0</td>\n",
       "    </tr>\n",
       "    <tr>\n",
       "      <th>4</th>\n",
       "      <td>10453.0</td>\n",
       "      <td>29844</td>\n",
       "      <td>78309.0</td>\n",
       "    </tr>\n",
       "  </tbody>\n",
       "</table>\n",
       "</div>"
      ],
      "text/plain": [
       "   Incident Zip  num_complaints  Population\n",
       "0       11226.0           42462    101572.0\n",
       "1       11385.0           35293     98592.0\n",
       "2       10467.0           34257     97060.0\n",
       "3       11207.0           31063     93386.0\n",
       "4       10453.0           29844     78309.0"
      ]
     },
     "execution_count": 85,
     "metadata": {},
     "output_type": "execute_result"
    }
   ],
   "source": [
    "df6_2017=df5_2017.merge(pop, on='Incident Zip', how='left') #Left join merge\n",
    "print(pop.shape)\n",
    "print(df6_2017.shape) #checking if the merged table has same no. of obs as the left-side dataset\n",
    "df6_2017.head()"
   ]
  },
  {
   "cell_type": "markdown",
   "metadata": {},
   "source": [
    "#### 4.2.5. Merging Borough table with total complaints dataset (data3) to estimate complaint-index for each borough of NYC"
   ]
  },
  {
   "cell_type": "code",
   "execution_count": 110,
   "metadata": {
    "scrolled": false
   },
   "outputs": [
    {
     "name": "stdout",
     "output_type": "stream",
     "text": [
      "(297, 2)\n",
      "(5, 3)\n"
     ]
    },
    {
     "data": {
      "text/html": [
       "<div>\n",
       "<style scoped>\n",
       "    .dataframe tbody tr th:only-of-type {\n",
       "        vertical-align: middle;\n",
       "    }\n",
       "\n",
       "    .dataframe tbody tr th {\n",
       "        vertical-align: top;\n",
       "    }\n",
       "\n",
       "    .dataframe thead th {\n",
       "        text-align: right;\n",
       "    }\n",
       "</style>\n",
       "<table border=\"1\" class=\"dataframe\">\n",
       "  <thead>\n",
       "    <tr style=\"text-align: right;\">\n",
       "      <th></th>\n",
       "      <th>Borough</th>\n",
       "      <th>complaint_index</th>\n",
       "    </tr>\n",
       "  </thead>\n",
       "  <tbody>\n",
       "    <tr>\n",
       "      <th>0</th>\n",
       "      <td>BRONX</td>\n",
       "      <td>0.293921</td>\n",
       "    </tr>\n",
       "    <tr>\n",
       "      <th>1</th>\n",
       "      <td>BROOKLYN</td>\n",
       "      <td>0.300462</td>\n",
       "    </tr>\n",
       "    <tr>\n",
       "      <th>2</th>\n",
       "      <td>MANHATTAN</td>\n",
       "      <td>0.295520</td>\n",
       "    </tr>\n",
       "    <tr>\n",
       "      <th>3</th>\n",
       "      <td>QUEENS</td>\n",
       "      <td>0.251499</td>\n",
       "    </tr>\n",
       "    <tr>\n",
       "      <th>4</th>\n",
       "      <td>STATEN ISLAND</td>\n",
       "      <td>0.275267</td>\n",
       "    </tr>\n",
       "  </tbody>\n",
       "</table>\n",
       "</div>"
      ],
      "text/plain": [
       "         Borough  complaint_index\n",
       "0          BRONX         0.293921\n",
       "1       BROOKLYN         0.300462\n",
       "2      MANHATTAN         0.295520\n",
       "3         QUEENS         0.251499\n",
       "4  STATEN ISLAND         0.275267"
      ]
     },
     "execution_count": 110,
     "metadata": {},
     "output_type": "execute_result"
    }
   ],
   "source": [
    "df7_2017=df6_2017.merge(Borough_Zip, on='Incident Zip', how='left') #Left join merge\n",
    "df7_2017.head()\n",
    "df7_2017=df7_2017.dropna() \n",
    "df8_2017=df7_2017.groupby(['Borough'])[['num_complaints','Population']].sum()\n",
    "df8_2017['complaint_index']=df8_2017['num_complaints']/df8_2017['Population']\n",
    "print(Borough_Zip.shape)\n",
    "print(df8_2017.shape) #checking if the merged table has same no. of obs as the left-side dataset\n",
    "df8_2017.reset_index(inplace=True) #converts labels to column\n",
    "df9_2017=df8_2017[['Borough','complaint_index']]\n",
    "df9_2017.head()\n",
    "#print(type(data6))\n",
    "#print(data6.shape)"
   ]
  },
  {
   "cell_type": "markdown",
   "metadata": {},
   "source": [
    "#### 4.2.6. plotting the above dataset"
   ]
  },
  {
   "cell_type": "code",
   "execution_count": 142,
   "metadata": {
    "scrolled": false
   },
   "outputs": [
    {
     "data": {
      "image/png": "[encoded data removed]",
      "text/plain": [
       "<Figure size 432x432 with 1 Axes>"
      ]
     },
     "metadata": {
      "needs_background": "light"
     },
     "output_type": "display_data"
    }
   ],
   "source": [
    "(df9_2017.reindex(index=df9_2017.mean(axis=1)\n",
    "    .sort_values(ascending=False)\n",
    "    .index).set_index('Borough').plot(kind='barh', figsize=(6,6), width=0.4)) #renaming bar plot index values\n",
    "plt.ylabel('Borough')\n",
    "plt.xlabel('Complaint-index')\n",
    "plt.title(\"Complaint-index (total complaints relative to their population) for each Borough of NYC in 2017\") \n",
    "plt.show()"
   ]
  },
  {
   "cell_type": "markdown",
   "metadata": {},
   "source": [
    "#### Comments: From the above plot, Brooklyn has the most number of complaints relative to the size of its population in 2017, followed by Manhattan, Bronx, Staten Island and Queens."
   ]
  },
  {
   "cell_type": "markdown",
   "metadata": {},
   "source": [
    "  "
   ]
  },
  {
   "cell_type": "markdown",
   "metadata": {},
   "source": [
    "# 4.3. Question-3\n",
    "### Here, I will analyze the two highest complaint types- 'Blocked Driveway' & 'Illegal Parking'"
   ]
  },
  {
   "cell_type": "markdown",
   "metadata": {},
   "source": [
    "#### 4.3.1. Calculate total number of complaints by complaint type by zipcode"
   ]
  },
  {
   "cell_type": "code",
   "execution_count": 145,
   "metadata": {
    "scrolled": false
   },
   "outputs": [
    {
     "name": "stdout",
     "output_type": "stream",
     "text": [
      "(391, 3)\n"
     ]
    },
    {
     "data": {
      "text/html": [
       "<div>\n",
       "<style scoped>\n",
       "    .dataframe tbody tr th:only-of-type {\n",
       "        vertical-align: middle;\n",
       "    }\n",
       "\n",
       "    .dataframe tbody tr th {\n",
       "        vertical-align: top;\n",
       "    }\n",
       "\n",
       "    .dataframe thead th {\n",
       "        text-align: right;\n",
       "    }\n",
       "</style>\n",
       "<table border=\"1\" class=\"dataframe\">\n",
       "  <thead>\n",
       "    <tr style=\"text-align: right;\">\n",
       "      <th></th>\n",
       "      <th>Incident Zip</th>\n",
       "      <th>Complaint Type</th>\n",
       "      <th>num_complaints</th>\n",
       "    </tr>\n",
       "  </thead>\n",
       "  <tbody>\n",
       "    <tr>\n",
       "      <th>14</th>\n",
       "      <td>11368.0</td>\n",
       "      <td>Blocked Driveway</td>\n",
       "      <td>4388</td>\n",
       "    </tr>\n",
       "    <tr>\n",
       "      <th>18</th>\n",
       "      <td>11385.0</td>\n",
       "      <td>Illegal Parking</td>\n",
       "      <td>4136</td>\n",
       "    </tr>\n",
       "    <tr>\n",
       "      <th>30</th>\n",
       "      <td>11209.0</td>\n",
       "      <td>Illegal Parking</td>\n",
       "      <td>3289</td>\n",
       "    </tr>\n",
       "    <tr>\n",
       "      <th>35</th>\n",
       "      <td>11214.0</td>\n",
       "      <td>Illegal Parking</td>\n",
       "      <td>3159</td>\n",
       "    </tr>\n",
       "    <tr>\n",
       "      <th>40</th>\n",
       "      <td>11223.0</td>\n",
       "      <td>Illegal Parking</td>\n",
       "      <td>3082</td>\n",
       "    </tr>\n",
       "  </tbody>\n",
       "</table>\n",
       "</div>"
      ],
      "text/plain": [
       "    Incident Zip    Complaint Type  num_complaints\n",
       "14       11368.0  Blocked Driveway            4388\n",
       "18       11385.0   Illegal Parking            4136\n",
       "30       11209.0   Illegal Parking            3289\n",
       "35       11214.0   Illegal Parking            3159\n",
       "40       11223.0   Illegal Parking            3082"
      ]
     },
     "execution_count": 145,
     "metadata": {},
     "output_type": "execute_result"
    }
   ],
   "source": [
    "ct_total_complaints_freq_all = df_2017[['Incident Zip','Complaint Type']].value_counts().tolist() #list with frequencies of the complaints\n",
    "ct_total_complaints_all = df_2017[['Incident Zip','Complaint Type']].value_counts().index.tolist() #list with index of zipcodes\n",
    "ct_total_complaints_freq_all =pd.DataFrame(ct_total_complaints_freq_all, columns=['num_complaints'])\n",
    "ct_total_complaints_all =pd.DataFrame(ct_total_complaints_all, columns=['Incident Zip','Complaint Type'])\n",
    "df10_2017 = pd.concat([ct_total_complaints_all, ct_total_complaints_freq_all], axis=1)\n",
    "df11_2017=df10_2017[df10_2017['Complaint Type'].isin(['Blocked Driveway','Illegal Parking'])]\n",
    "print(df11_2017.shape)\n",
    "df11_2017.head()"
   ]
  },
  {
   "cell_type": "markdown",
   "metadata": {},
   "source": [
    "#### 4.3.2. Merge poulation dataset with the above total complaints dataset using zip code as key"
   ]
  },
  {
   "cell_type": "code",
   "execution_count": 129,
   "metadata": {
    "scrolled": false
   },
   "outputs": [
    {
     "name": "stdout",
     "output_type": "stream",
     "text": [
      "(32948, 2)\n",
      "(391, 4)\n"
     ]
    }
   ],
   "source": [
    "df12_2017=df11_2017.merge(pop, on='Incident Zip', how='left') #Left join merge\n",
    "print(pop.shape)\n",
    "print(df12_2017.shape) #checking if the merged table has same no. of obs as the left-side dataset"
   ]
  },
  {
   "cell_type": "markdown",
   "metadata": {},
   "source": [
    "#### 4.3.3. Merging Borough table with the total complaints dataset (data9) to estimate complaint-index by each Borough in 2017"
   ]
  },
  {
   "cell_type": "code",
   "execution_count": 139,
   "metadata": {
    "scrolled": true
   },
   "outputs": [
    {
     "name": "stdout",
     "output_type": "stream",
     "text": [
      "(297, 2)\n",
      "(10, 3)\n",
      "Complaint Type        Borough  Blocked Driveway  Illegal Parking\n",
      "0                       BRONX          0.018628         0.014703\n",
      "1                    BROOKLYN          0.020716         0.022961\n",
      "2                   MANHATTAN          0.007277         0.017189\n",
      "3                      QUEENS          0.023000         0.019339\n",
      "4               STATEN ISLAND          0.008096         0.017215\n"
     ]
    }
   ],
   "source": [
    "df13_2017=df12_2017.merge(Borough_Zip, on='Incident Zip', how='left') #Left join merge\n",
    "df13_2017=df13_2017.dropna() \n",
    "\n",
    "#aggregating num_complaints and population by borough, complaint_type\n",
    "df14_2017=df13_2017.groupby(['Borough','Complaint Type'])[['num_complaints','Population']].sum()\n",
    "#print(type(data5))\n",
    "df14_2017['complaint_index']=df14_2017['num_complaints']/df14_2017['Population']\n",
    "print(Borough_Zip.shape)\n",
    "print(df14_2017.shape) #checking if the merged table has same no. of obs as the left-side dataset\n",
    "df14_2017.reset_index(inplace=True) #converts labels to column\n",
    "df15_2017=df14_2017[['Borough','Complaint Type','complaint_index']]\n",
    "\n",
    "#convert the dataframe long to wide format for plots\n",
    "df16_2017=df15_2017.pivot(index='Borough', columns='Complaint Type', values='complaint_index') \n",
    "df16_2017.reset_index(inplace=True) #converts labels to column\n",
    "print(df16_2017.head())"
   ]
  },
  {
   "cell_type": "markdown",
   "metadata": {},
   "source": [
    "#### 4.3.4. Plotting the above dataframe"
   ]
  },
  {
   "cell_type": "code",
   "execution_count": 147,
   "metadata": {
    "scrolled": false
   },
   "outputs": [
    {
     "data": {
      "image/png": "[encoded data removed]",
      "text/plain": [
       "<Figure size 576x576 with 1 Axes>"
      ]
     },
     "metadata": {
      "needs_background": "light"
     },
     "output_type": "display_data"
    }
   ],
   "source": [
    "(df16_2017.reindex(index=df16_2017.mean(axis=1)\n",
    "    .sort_values(ascending=False)\n",
    "    .index).set_index('Borough').plot(kind='barh', figsize=(8, 8), width=0.4,\n",
    "            title='Complaint-index (total complaints relative to their population) for each Borough of NYC in 2017'))\n",
    "plt.xlabel('Complaint-index')\n",
    "plt.show()"
   ]
  },
  {
   "cell_type": "markdown",
   "metadata": {},
   "source": [
    "#### Comments: My assumption was that the boroughs with highest complaints about 'Blocked Driveway' have the highest complaints about 'IIlegal Parking' and vice-versa, as they are both related. From the above plot, my assumption appears to be true, as Brooklyn and Quuens have the highest complaints about both the types, wheras the other three boroughs have lesser complaints about the two complaint types. With regard to the variance of the complaint-indices, the level of illegal parking seems to be almost the same across all the boroughs in NYC but the variance for Blocked Driveway complaints is large."
   ]
  },
  {
   "cell_type": "markdown",
   "metadata": {},
   "source": [
    "  "
   ]
  },
  {
   "cell_type": "markdown",
   "metadata": {},
   "source": [
    "\n",
    "# 5. Time Series / Exploratory Analysis (Monthly analysis in 2021)\n",
    "## 5.1. Question-1"
   ]
  },
  {
   "cell_type": "markdown",
   "metadata": {},
   "source": [
    "#### 5.1.1. Create a subset which has complaint descriptor variable - 'Loud music/Party'"
   ]
  },
  {
   "cell_type": "code",
   "execution_count": 150,
   "metadata": {},
   "outputs": [
    {
     "data": {
      "text/plain": [
       "(2749681, 14)"
      ]
     },
     "execution_count": 150,
     "metadata": {},
     "output_type": "execute_result"
    }
   ],
   "source": [
    "Loud_music=df[df['Descriptor'].isin(['Loud Music/Party'])]\n",
    "Loud_music['Incident Zip']= pd.to_numeric(Loud_music['Incident Zip'], errors='coerce') #convert string to numeric\n",
    "Loud_music.shape"
   ]
  },
  {
   "cell_type": "markdown",
   "metadata": {},
   "source": [
    "#### 5.1.2. Calculate total number of complaints by descriptor by zipcode each month in 2021"
   ]
  },
  {
   "cell_type": "code",
   "execution_count": 151,
   "metadata": {},
   "outputs": [
    {
     "name": "stdout",
     "output_type": "stream",
     "text": [
      "(25473, 5)\n"
     ]
    },
    {
     "data": {
      "text/html": [
       "<div>\n",
       "<style scoped>\n",
       "    .dataframe tbody tr th:only-of-type {\n",
       "        vertical-align: middle;\n",
       "    }\n",
       "\n",
       "    .dataframe tbody tr th {\n",
       "        vertical-align: top;\n",
       "    }\n",
       "\n",
       "    .dataframe thead th {\n",
       "        text-align: right;\n",
       "    }\n",
       "</style>\n",
       "<table border=\"1\" class=\"dataframe\">\n",
       "  <thead>\n",
       "    <tr style=\"text-align: right;\">\n",
       "      <th></th>\n",
       "      <th>Incident Zip</th>\n",
       "      <th>Year_month</th>\n",
       "      <th>Year</th>\n",
       "      <th>Month</th>\n",
       "      <th>num_complaints</th>\n",
       "    </tr>\n",
       "  </thead>\n",
       "  <tbody>\n",
       "    <tr>\n",
       "      <th>0</th>\n",
       "      <td>10466.0</td>\n",
       "      <td>2020-08</td>\n",
       "      <td>2020</td>\n",
       "      <td>8</td>\n",
       "      <td>16766</td>\n",
       "    </tr>\n",
       "    <tr>\n",
       "      <th>1</th>\n",
       "      <td>10466.0</td>\n",
       "      <td>2021-07</td>\n",
       "      <td>2021</td>\n",
       "      <td>7</td>\n",
       "      <td>14477</td>\n",
       "    </tr>\n",
       "    <tr>\n",
       "      <th>2</th>\n",
       "      <td>10466.0</td>\n",
       "      <td>2020-09</td>\n",
       "      <td>2020</td>\n",
       "      <td>9</td>\n",
       "      <td>13779</td>\n",
       "    </tr>\n",
       "    <tr>\n",
       "      <th>3</th>\n",
       "      <td>10466.0</td>\n",
       "      <td>2020-07</td>\n",
       "      <td>2020</td>\n",
       "      <td>7</td>\n",
       "      <td>12049</td>\n",
       "    </tr>\n",
       "    <tr>\n",
       "      <th>4</th>\n",
       "      <td>10466.0</td>\n",
       "      <td>2021-09</td>\n",
       "      <td>2021</td>\n",
       "      <td>9</td>\n",
       "      <td>9195</td>\n",
       "    </tr>\n",
       "  </tbody>\n",
       "</table>\n",
       "</div>"
      ],
      "text/plain": [
       "   Incident Zip Year_month  Year  Month  num_complaints\n",
       "0       10466.0    2020-08  2020      8           16766\n",
       "1       10466.0    2021-07  2021      7           14477\n",
       "2       10466.0    2020-09  2020      9           13779\n",
       "3       10466.0    2020-07  2020      7           12049\n",
       "4       10466.0    2021-09  2021      9            9195"
      ]
     },
     "execution_count": 151,
     "metadata": {},
     "output_type": "execute_result"
    }
   ],
   "source": [
    "LM_total_complaints_freq_all = Loud_music[['Incident Zip','Year_month','Year','Month']].value_counts().tolist() #list with frequencies of the complaints\n",
    "LM_total_complaints_all = Loud_music[['Incident Zip','Year_month','Year','Month']].value_counts().index.tolist() #list with index of zipcodes\n",
    "LM_total_complaints_freq_all =pd.DataFrame(LM_total_complaints_freq_all, columns=['num_complaints'])\n",
    "LM_total_complaints_all =pd.DataFrame(LM_total_complaints_all, columns=['Incident Zip','Year_month','Year','Month'])\n",
    "Loud_music2 = pd.concat([LM_total_complaints_all, LM_total_complaints_freq_all], axis=1)\n",
    "print(Loud_music2.shape)\n",
    "Loud_music2.head()"
   ]
  },
  {
   "cell_type": "markdown",
   "metadata": {},
   "source": [
    "#### 5.1.3. Merge Loud music dataset with population & Borough-Zip datasets"
   ]
  },
  {
   "cell_type": "code",
   "execution_count": 152,
   "metadata": {},
   "outputs": [
    {
     "data": {
      "text/html": [
       "<div>\n",
       "<style scoped>\n",
       "    .dataframe tbody tr th:only-of-type {\n",
       "        vertical-align: middle;\n",
       "    }\n",
       "\n",
       "    .dataframe tbody tr th {\n",
       "        vertical-align: top;\n",
       "    }\n",
       "\n",
       "    .dataframe thead th {\n",
       "        text-align: right;\n",
       "    }\n",
       "</style>\n",
       "<table border=\"1\" class=\"dataframe\">\n",
       "  <thead>\n",
       "    <tr style=\"text-align: right;\">\n",
       "      <th></th>\n",
       "      <th>Incident Zip</th>\n",
       "      <th>Year_month</th>\n",
       "      <th>Year</th>\n",
       "      <th>Month</th>\n",
       "      <th>num_complaints</th>\n",
       "      <th>Population</th>\n",
       "      <th>Borough</th>\n",
       "    </tr>\n",
       "  </thead>\n",
       "  <tbody>\n",
       "    <tr>\n",
       "      <th>0</th>\n",
       "      <td>10466.0</td>\n",
       "      <td>2020-08</td>\n",
       "      <td>2020</td>\n",
       "      <td>8</td>\n",
       "      <td>16766</td>\n",
       "      <td>67813.0</td>\n",
       "      <td>BRONX</td>\n",
       "    </tr>\n",
       "    <tr>\n",
       "      <th>1</th>\n",
       "      <td>10466.0</td>\n",
       "      <td>2021-07</td>\n",
       "      <td>2021</td>\n",
       "      <td>7</td>\n",
       "      <td>14477</td>\n",
       "      <td>67813.0</td>\n",
       "      <td>BRONX</td>\n",
       "    </tr>\n",
       "    <tr>\n",
       "      <th>2</th>\n",
       "      <td>10466.0</td>\n",
       "      <td>2020-09</td>\n",
       "      <td>2020</td>\n",
       "      <td>9</td>\n",
       "      <td>13779</td>\n",
       "      <td>67813.0</td>\n",
       "      <td>BRONX</td>\n",
       "    </tr>\n",
       "    <tr>\n",
       "      <th>3</th>\n",
       "      <td>10466.0</td>\n",
       "      <td>2020-07</td>\n",
       "      <td>2020</td>\n",
       "      <td>7</td>\n",
       "      <td>12049</td>\n",
       "      <td>67813.0</td>\n",
       "      <td>BRONX</td>\n",
       "    </tr>\n",
       "    <tr>\n",
       "      <th>4</th>\n",
       "      <td>10466.0</td>\n",
       "      <td>2021-09</td>\n",
       "      <td>2021</td>\n",
       "      <td>9</td>\n",
       "      <td>9195</td>\n",
       "      <td>67813.0</td>\n",
       "      <td>BRONX</td>\n",
       "    </tr>\n",
       "  </tbody>\n",
       "</table>\n",
       "</div>"
      ],
      "text/plain": [
       "   Incident Zip Year_month  Year  Month  num_complaints  Population Borough\n",
       "0       10466.0    2020-08  2020      8           16766     67813.0   BRONX\n",
       "1       10466.0    2021-07  2021      7           14477     67813.0   BRONX\n",
       "2       10466.0    2020-09  2020      9           13779     67813.0   BRONX\n",
       "3       10466.0    2020-07  2020      7           12049     67813.0   BRONX\n",
       "4       10466.0    2021-09  2021      9            9195     67813.0   BRONX"
      ]
     },
     "execution_count": 152,
     "metadata": {},
     "output_type": "execute_result"
    }
   ],
   "source": [
    "Loud_music3=Loud_music2.merge(pop, on='Incident Zip', how='left')\n",
    "Loud_music4=Loud_music3.merge(Borough_Zip, on='Incident Zip', how='left') #Left join merge\n",
    "Loud_music4=Loud_music4.dropna() \n",
    "Loud_music4.head()"
   ]
  },
  {
   "cell_type": "markdown",
   "metadata": {},
   "source": [
    "#### 5.1.4. Create complaint-index variable & complaint-rate variable to form dataset by borough"
   ]
  },
  {
   "cell_type": "code",
   "execution_count": 153,
   "metadata": {},
   "outputs": [
    {
     "data": {
      "text/html": [
       "<div>\n",
       "<style scoped>\n",
       "    .dataframe tbody tr th:only-of-type {\n",
       "        vertical-align: middle;\n",
       "    }\n",
       "\n",
       "    .dataframe tbody tr th {\n",
       "        vertical-align: top;\n",
       "    }\n",
       "\n",
       "    .dataframe thead th {\n",
       "        text-align: right;\n",
       "    }\n",
       "</style>\n",
       "<table border=\"1\" class=\"dataframe\">\n",
       "  <thead>\n",
       "    <tr style=\"text-align: right;\">\n",
       "      <th></th>\n",
       "      <th>Borough</th>\n",
       "      <th>Year_month</th>\n",
       "      <th>Month</th>\n",
       "      <th>Year</th>\n",
       "      <th>num_complaints</th>\n",
       "      <th>Population</th>\n",
       "      <th>complaint_index</th>\n",
       "      <th>complaint_index_1</th>\n",
       "      <th>complaint_rate</th>\n",
       "    </tr>\n",
       "  </thead>\n",
       "  <tbody>\n",
       "    <tr>\n",
       "      <th>0</th>\n",
       "      <td>BRONX</td>\n",
       "      <td>2010-01</td>\n",
       "      <td>1</td>\n",
       "      <td>2010</td>\n",
       "      <td>2335</td>\n",
       "      <td>1828343.0</td>\n",
       "      <td>0.001277</td>\n",
       "      <td>NaN</td>\n",
       "      <td>NaN</td>\n",
       "    </tr>\n",
       "    <tr>\n",
       "      <th>1</th>\n",
       "      <td>BRONX</td>\n",
       "      <td>2010-02</td>\n",
       "      <td>2</td>\n",
       "      <td>2010</td>\n",
       "      <td>2200</td>\n",
       "      <td>1828343.0</td>\n",
       "      <td>0.001203</td>\n",
       "      <td>0.001277</td>\n",
       "      <td>-0.000074</td>\n",
       "    </tr>\n",
       "    <tr>\n",
       "      <th>2</th>\n",
       "      <td>BRONX</td>\n",
       "      <td>2010-03</td>\n",
       "      <td>3</td>\n",
       "      <td>2010</td>\n",
       "      <td>2165</td>\n",
       "      <td>1805421.0</td>\n",
       "      <td>0.001199</td>\n",
       "      <td>0.001203</td>\n",
       "      <td>-0.000004</td>\n",
       "    </tr>\n",
       "    <tr>\n",
       "      <th>3</th>\n",
       "      <td>BRONX</td>\n",
       "      <td>2010-04</td>\n",
       "      <td>4</td>\n",
       "      <td>2010</td>\n",
       "      <td>2614</td>\n",
       "      <td>1828343.0</td>\n",
       "      <td>0.001430</td>\n",
       "      <td>0.001199</td>\n",
       "      <td>0.000231</td>\n",
       "    </tr>\n",
       "    <tr>\n",
       "      <th>4</th>\n",
       "      <td>BRONX</td>\n",
       "      <td>2010-05</td>\n",
       "      <td>5</td>\n",
       "      <td>2010</td>\n",
       "      <td>2780</td>\n",
       "      <td>1828343.0</td>\n",
       "      <td>0.001521</td>\n",
       "      <td>0.001430</td>\n",
       "      <td>0.000091</td>\n",
       "    </tr>\n",
       "  </tbody>\n",
       "</table>\n",
       "</div>"
      ],
      "text/plain": [
       "  Borough Year_month  Month  Year  num_complaints  Population  \\\n",
       "0   BRONX    2010-01      1  2010            2335   1828343.0   \n",
       "1   BRONX    2010-02      2  2010            2200   1828343.0   \n",
       "2   BRONX    2010-03      3  2010            2165   1805421.0   \n",
       "3   BRONX    2010-04      4  2010            2614   1828343.0   \n",
       "4   BRONX    2010-05      5  2010            2780   1828343.0   \n",
       "\n",
       "   complaint_index  complaint_index_1  complaint_rate  \n",
       "0         0.001277                NaN             NaN  \n",
       "1         0.001203           0.001277       -0.000074  \n",
       "2         0.001199           0.001203       -0.000004  \n",
       "3         0.001430           0.001199        0.000231  \n",
       "4         0.001521           0.001430        0.000091  "
      ]
     },
     "execution_count": 153,
     "metadata": {},
     "output_type": "execute_result"
    }
   ],
   "source": [
    "#aggregating num_complaints and population by borough, month, year\n",
    "Loud_music5=Loud_music4.groupby(['Borough','Year_month','Month','Year'])[['num_complaints','Population']].sum()\n",
    "\n",
    "#complaint-index variable\n",
    "Loud_music5['complaint_index']=Loud_music5['num_complaints']/Loud_music5['Population']\n",
    "\n",
    "#adding lag of complaint_index variable by zipcode by month\n",
    "Loud_music5['complaint_index_1']=Loud_music5.sort_values(['Borough','Year_month','Month','Year'],ascending=True)['complaint_index'].shift(1)\n",
    "\n",
    "#add complaint-rate variable\n",
    "#complaint-rate=change in complaints relative to population from last month to the current month\n",
    "Loud_music5['complaint_rate']=Loud_music5['complaint_index']-Loud_music5['complaint_index_1']\n",
    "\n",
    "Loud_music5 = Loud_music5.sort_values(['Borough','Year_month','Month','Year'],ascending=True) #sort by group\n",
    "Loud_music5.reset_index(inplace=True) #converts labels to column\n",
    "Loud_music5.head()"
   ]
  },
  {
   "cell_type": "markdown",
   "metadata": {},
   "source": [
    "#### 5.1.5. Plotting the above dataframe (by Borough)"
   ]
  },
  {
   "cell_type": "code",
   "execution_count": 129,
   "metadata": {},
   "outputs": [
    {
     "data": {
      "image/png": "[encoded data removed]",
      "text/plain": [
       "<Figure size 720x432 with 1 Axes>"
      ]
     },
     "metadata": {
      "needs_background": "light"
     },
     "output_type": "display_data"
    }
   ],
   "source": [
    "fig, ax = plt.subplots(figsize=(10,6))\n",
    "\n",
    "for name, group in Loud_music6.groupby('borough'):\n",
    "    group.plot(x='month', y='complaint_rate', ax=ax, label=name)\n",
    "\n",
    "plt.xlabel('Month in 2021')\n",
    "plt.ylabel('Complaint rate')\n",
    "plt.legend(title = \"Borough\")\n",
    "plt.title(\"Complaint-rate by month by each Borough\") \n",
    "plt.show()"
   ]
  },
  {
   "cell_type": "markdown",
   "metadata": {},
   "source": [
    "#### 5.1.6. Create complaint-index variable & complaint-rate variable to form dataset for entire city"
   ]
  },
  {
   "cell_type": "code",
   "execution_count": 133,
   "metadata": {},
   "outputs": [
    {
     "data": {
      "text/html": [
       "<div>\n",
       "<style scoped>\n",
       "    .dataframe tbody tr th:only-of-type {\n",
       "        vertical-align: middle;\n",
       "    }\n",
       "\n",
       "    .dataframe tbody tr th {\n",
       "        vertical-align: top;\n",
       "    }\n",
       "\n",
       "    .dataframe thead th {\n",
       "        text-align: right;\n",
       "    }\n",
       "</style>\n",
       "<table border=\"1\" class=\"dataframe\">\n",
       "  <thead>\n",
       "    <tr style=\"text-align: right;\">\n",
       "      <th></th>\n",
       "      <th>month</th>\n",
       "      <th>year</th>\n",
       "      <th>num_complaints</th>\n",
       "      <th>Population</th>\n",
       "      <th>complaint_index</th>\n",
       "      <th>complaint_index_1</th>\n",
       "      <th>complaint_rate</th>\n",
       "    </tr>\n",
       "  </thead>\n",
       "  <tbody>\n",
       "    <tr>\n",
       "      <th>0</th>\n",
       "      <td>5</td>\n",
       "      <td>2021</td>\n",
       "      <td>19018</td>\n",
       "      <td>9771623.0</td>\n",
       "      <td>0.001946</td>\n",
       "      <td>NaN</td>\n",
       "      <td>NaN</td>\n",
       "    </tr>\n",
       "    <tr>\n",
       "      <th>1</th>\n",
       "      <td>6</td>\n",
       "      <td>2021</td>\n",
       "      <td>68901</td>\n",
       "      <td>9788991.0</td>\n",
       "      <td>0.007039</td>\n",
       "      <td>0.001946</td>\n",
       "      <td>0.005092</td>\n",
       "    </tr>\n",
       "    <tr>\n",
       "      <th>2</th>\n",
       "      <td>7</td>\n",
       "      <td>2021</td>\n",
       "      <td>69724</td>\n",
       "      <td>9780301.0</td>\n",
       "      <td>0.007129</td>\n",
       "      <td>0.007039</td>\n",
       "      <td>0.000090</td>\n",
       "    </tr>\n",
       "    <tr>\n",
       "      <th>3</th>\n",
       "      <td>8</td>\n",
       "      <td>2021</td>\n",
       "      <td>56869</td>\n",
       "      <td>9767035.0</td>\n",
       "      <td>0.005823</td>\n",
       "      <td>0.007129</td>\n",
       "      <td>-0.001306</td>\n",
       "    </tr>\n",
       "    <tr>\n",
       "      <th>4</th>\n",
       "      <td>9</td>\n",
       "      <td>2021</td>\n",
       "      <td>63850</td>\n",
       "      <td>9783106.0</td>\n",
       "      <td>0.006527</td>\n",
       "      <td>0.005823</td>\n",
       "      <td>0.000704</td>\n",
       "    </tr>\n",
       "  </tbody>\n",
       "</table>\n",
       "</div>"
      ],
      "text/plain": [
       "   month  year  num_complaints  Population  complaint_index  \\\n",
       "0      5  2021           19018   9771623.0         0.001946   \n",
       "1      6  2021           68901   9788991.0         0.007039   \n",
       "2      7  2021           69724   9780301.0         0.007129   \n",
       "3      8  2021           56869   9767035.0         0.005823   \n",
       "4      9  2021           63850   9783106.0         0.006527   \n",
       "\n",
       "   complaint_index_1  complaint_rate  \n",
       "0                NaN             NaN  \n",
       "1           0.001946        0.005092  \n",
       "2           0.007039        0.000090  \n",
       "3           0.007129       -0.001306  \n",
       "4           0.005823        0.000704  "
      ]
     },
     "execution_count": 133,
     "metadata": {},
     "output_type": "execute_result"
    }
   ],
   "source": [
    "#aggregating num_complaints and population by borough, month, year\n",
    "Loud_music7=Loud_music4.groupby(['month','year'])[['num_complaints','Population']].sum()\n",
    "\n",
    "#complaint-index variable\n",
    "Loud_music7['complaint_index']=Loud_music7['num_complaints']/Loud_music7['Population']\n",
    "\n",
    "#adding lag of complaint_index variable by zipcode by month\n",
    "Loud_music7['complaint_index_1']=Loud_music7.sort_values(['month','year'],ascending=True)['complaint_index'].shift(1)\n",
    "\n",
    "#add complaint-rate variable\n",
    "#complaint-rate=change in complaints relative to population from last month to the current month\n",
    "Loud_music7['complaint_rate']=Loud_music7['complaint_index']-Loud_music7['complaint_index_1']\n",
    "\n",
    "Loud_music7 = Loud_music7.sort_values(['month','year'],ascending=True) #sort by group\n",
    "Loud_music7.reset_index(inplace=True) #converts labels to column\n",
    "\n",
    "Loud_music7.head()"
   ]
  },
  {
   "cell_type": "markdown",
   "metadata": {},
   "source": [
    "#### 5.1.7. Plot the above dataframe (for the whole city)"
   ]
  },
  {
   "cell_type": "code",
   "execution_count": 135,
   "metadata": {},
   "outputs": [
    {
     "data": {
      "image/png": "[encoded data removed]",
      "text/plain": [
       "<Figure size 720x432 with 1 Axes>"
      ]
     },
     "metadata": {
      "needs_background": "light"
     },
     "output_type": "display_data"
    }
   ],
   "source": [
    "fig, ax = plt.subplots(figsize=(10,6))\n",
    "\n",
    "Loud_music7.plot(x='month', y='complaint_rate', ax=ax)\n",
    "\n",
    "plt.xlabel('Month in 2021')\n",
    "plt.ylabel('Complaint rate')\n",
    "plt.title(\"Complaint-rate by month for NYC\") \n",
    "plt.show()"
   ]
  },
  {
   "cell_type": "markdown",
   "metadata": {},
   "source": [
    "### Comments: From the above two plots, it seems like the complaint rates have gone down from June to August in 2021 across all the boroughs and NYC as a whole. The rates have gone up again in the month of September followed by a decline in the following months, reaching the lowest level in the past 6 months."
   ]
  },
  {
   "cell_type": "markdown",
   "metadata": {},
   "source": [
    "  "
   ]
  },
  {
   "cell_type": "markdown",
   "metadata": {},
   "source": [
    "## 5.2. Question-2"
   ]
  },
  {
   "cell_type": "markdown",
   "metadata": {},
   "source": [
    "#### 5.2.1. Create complaint-index variable & complaint-rate variable by zipcode by each month in 2021"
   ]
  },
  {
   "cell_type": "code",
   "execution_count": 152,
   "metadata": {},
   "outputs": [
    {
     "data": {
      "text/html": [
       "<div>\n",
       "<style scoped>\n",
       "    .dataframe tbody tr th:only-of-type {\n",
       "        vertical-align: middle;\n",
       "    }\n",
       "\n",
       "    .dataframe tbody tr th {\n",
       "        vertical-align: top;\n",
       "    }\n",
       "\n",
       "    .dataframe thead th {\n",
       "        text-align: right;\n",
       "    }\n",
       "</style>\n",
       "<table border=\"1\" class=\"dataframe\">\n",
       "  <thead>\n",
       "    <tr style=\"text-align: right;\">\n",
       "      <th></th>\n",
       "      <th>index</th>\n",
       "      <th>incident_zip</th>\n",
       "      <th>month</th>\n",
       "      <th>year</th>\n",
       "      <th>num_complaints</th>\n",
       "      <th>Population</th>\n",
       "      <th>borough</th>\n",
       "      <th>complaint_index</th>\n",
       "      <th>complaint_index_1</th>\n",
       "      <th>complaint_rate</th>\n",
       "    </tr>\n",
       "  </thead>\n",
       "  <tbody>\n",
       "    <tr>\n",
       "      <th>0</th>\n",
       "      <td>1209</td>\n",
       "      <td>10001.0</td>\n",
       "      <td>5</td>\n",
       "      <td>2021</td>\n",
       "      <td>31</td>\n",
       "      <td>21102.0</td>\n",
       "      <td>MANHATTAN</td>\n",
       "      <td>0.001469</td>\n",
       "      <td>NaN</td>\n",
       "      <td>NaN</td>\n",
       "    </tr>\n",
       "    <tr>\n",
       "      <th>2</th>\n",
       "      <td>689</td>\n",
       "      <td>10001.0</td>\n",
       "      <td>6</td>\n",
       "      <td>2021</td>\n",
       "      <td>135</td>\n",
       "      <td>21102.0</td>\n",
       "      <td>MANHATTAN</td>\n",
       "      <td>0.006397</td>\n",
       "      <td>0.001469</td>\n",
       "      <td>0.004928</td>\n",
       "    </tr>\n",
       "    <tr>\n",
       "      <th>4</th>\n",
       "      <td>759</td>\n",
       "      <td>10001.0</td>\n",
       "      <td>7</td>\n",
       "      <td>2021</td>\n",
       "      <td>113</td>\n",
       "      <td>21102.0</td>\n",
       "      <td>MANHATTAN</td>\n",
       "      <td>0.005355</td>\n",
       "      <td>0.006397</td>\n",
       "      <td>-0.001043</td>\n",
       "    </tr>\n",
       "    <tr>\n",
       "      <th>6</th>\n",
       "      <td>810</td>\n",
       "      <td>10001.0</td>\n",
       "      <td>8</td>\n",
       "      <td>2021</td>\n",
       "      <td>101</td>\n",
       "      <td>21102.0</td>\n",
       "      <td>MANHATTAN</td>\n",
       "      <td>0.004786</td>\n",
       "      <td>0.005355</td>\n",
       "      <td>-0.000569</td>\n",
       "    </tr>\n",
       "    <tr>\n",
       "      <th>8</th>\n",
       "      <td>653</td>\n",
       "      <td>10001.0</td>\n",
       "      <td>9</td>\n",
       "      <td>2021</td>\n",
       "      <td>144</td>\n",
       "      <td>21102.0</td>\n",
       "      <td>MANHATTAN</td>\n",
       "      <td>0.006824</td>\n",
       "      <td>0.004786</td>\n",
       "      <td>0.002038</td>\n",
       "    </tr>\n",
       "  </tbody>\n",
       "</table>\n",
       "</div>"
      ],
      "text/plain": [
       "   index  incident_zip  month  year  num_complaints  Population    borough  \\\n",
       "0   1209       10001.0      5  2021              31     21102.0  MANHATTAN   \n",
       "2    689       10001.0      6  2021             135     21102.0  MANHATTAN   \n",
       "4    759       10001.0      7  2021             113     21102.0  MANHATTAN   \n",
       "6    810       10001.0      8  2021             101     21102.0  MANHATTAN   \n",
       "8    653       10001.0      9  2021             144     21102.0  MANHATTAN   \n",
       "\n",
       "   complaint_index  complaint_index_1  complaint_rate  \n",
       "0         0.001469                NaN             NaN  \n",
       "2         0.006397           0.001469        0.004928  \n",
       "4         0.005355           0.006397       -0.001043  \n",
       "6         0.004786           0.005355       -0.000569  \n",
       "8         0.006824           0.004786        0.002038  "
      ]
     },
     "execution_count": 152,
     "metadata": {},
     "output_type": "execute_result"
    }
   ],
   "source": [
    "Loud_music8=Loud_music4\n",
    "#complaint-index variable\n",
    "Loud_music8['complaint_index']=Loud_music8['num_complaints']/Loud_music8['Population']\n",
    "\n",
    "#adding lag of complaint_index variable by zipcode by month\n",
    "Loud_music8['complaint_index_1']=Loud_music8.sort_values(['incident_zip','month','year'],ascending=True)['complaint_index'].shift(1)\n",
    "\n",
    "#add complaint-rate variable\n",
    "#complaint-rate=change in complaints relative to population from last month to the current month\n",
    "Loud_music8['complaint_rate']=Loud_music8['complaint_index']-Loud_music8['complaint_index_1']\n",
    "\n",
    "Loud_music8 = Loud_music8.sort_values(['incident_zip','month','year'],ascending=True) #sort by group\n",
    "Loud_music8.reset_index(inplace=True) #converts labels to column\n",
    "#Loud_music8=Loud_music8[Loud_music8['borough'].isin(Borough)]\n",
    "Loud_music8.head()"
   ]
  },
  {
   "cell_type": "markdown",
   "metadata": {},
   "source": [
    "#### 5.2.2 Estimating mean of complaint-rates in those 6 months of 2021 by zipcode"
   ]
  },
  {
   "cell_type": "code",
   "execution_count": 143,
   "metadata": {},
   "outputs": [
    {
     "data": {
      "text/html": [
       "<div>\n",
       "<style scoped>\n",
       "    .dataframe tbody tr th:only-of-type {\n",
       "        vertical-align: middle;\n",
       "    }\n",
       "\n",
       "    .dataframe tbody tr th {\n",
       "        vertical-align: top;\n",
       "    }\n",
       "\n",
       "    .dataframe thead th {\n",
       "        text-align: right;\n",
       "    }\n",
       "</style>\n",
       "<table border=\"1\" class=\"dataframe\">\n",
       "  <thead>\n",
       "    <tr style=\"text-align: right;\">\n",
       "      <th></th>\n",
       "      <th>incident_zip</th>\n",
       "      <th>complaint_rate</th>\n",
       "    </tr>\n",
       "  </thead>\n",
       "  <tbody>\n",
       "    <tr>\n",
       "      <th>171</th>\n",
       "      <td>11430.0</td>\n",
       "      <td>0.002259</td>\n",
       "    </tr>\n",
       "    <tr>\n",
       "      <th>72</th>\n",
       "      <td>10466.0</td>\n",
       "      <td>0.001632</td>\n",
       "    </tr>\n",
       "    <tr>\n",
       "      <th>181</th>\n",
       "      <td>11697.0</td>\n",
       "      <td>0.001030</td>\n",
       "    </tr>\n",
       "    <tr>\n",
       "      <th>141</th>\n",
       "      <td>11366.0</td>\n",
       "      <td>0.000742</td>\n",
       "    </tr>\n",
       "    <tr>\n",
       "      <th>7</th>\n",
       "      <td>10009.0</td>\n",
       "      <td>0.000638</td>\n",
       "    </tr>\n",
       "  </tbody>\n",
       "</table>\n",
       "</div>"
      ],
      "text/plain": [
       "     incident_zip  complaint_rate\n",
       "171       11430.0        0.002259\n",
       "72        10466.0        0.001632\n",
       "181       11697.0        0.001030\n",
       "141       11366.0        0.000742\n",
       "7         10009.0        0.000638"
      ]
     },
     "execution_count": 143,
     "metadata": {},
     "output_type": "execute_result"
    }
   ],
   "source": [
    "Loud_music9=Loud_music8.groupby(['incident_zip'])[['complaint_rate']].mean()\n",
    "Loud_music9.reset_index(inplace=True) #converts labels to column\n",
    "Loud_music9 = Loud_music9.sort_values(['complaint_rate'],ascending=False) #sort by complaint_rate\n",
    "Loud_music9.head() #5 largest zipcodes in terms of the increase in complaints over 6 months in 2021"
   ]
  },
  {
   "cell_type": "markdown",
   "metadata": {},
   "source": [
    "#### 5.2.3. Get unique zipcodes - their latitudes and longitudes"
   ]
  },
  {
   "cell_type": "code",
   "execution_count": 151,
   "metadata": {},
   "outputs": [
    {
     "name": "stdout",
     "output_type": "stream",
     "text": [
      "(223, 3)\n"
     ]
    },
    {
     "data": {
      "text/html": [
       "<div>\n",
       "<style scoped>\n",
       "    .dataframe tbody tr th:only-of-type {\n",
       "        vertical-align: middle;\n",
       "    }\n",
       "\n",
       "    .dataframe tbody tr th {\n",
       "        vertical-align: top;\n",
       "    }\n",
       "\n",
       "    .dataframe thead th {\n",
       "        text-align: right;\n",
       "    }\n",
       "</style>\n",
       "<table border=\"1\" class=\"dataframe\">\n",
       "  <thead>\n",
       "    <tr style=\"text-align: right;\">\n",
       "      <th></th>\n",
       "      <th>incident_zip</th>\n",
       "      <th>latitude</th>\n",
       "      <th>longitude</th>\n",
       "    </tr>\n",
       "  </thead>\n",
       "  <tbody>\n",
       "    <tr>\n",
       "      <th>0</th>\n",
       "      <td>00083</td>\n",
       "      <td>40.77685721094645</td>\n",
       "      <td>-73.97289511656156</td>\n",
       "    </tr>\n",
       "    <tr>\n",
       "      <th>1</th>\n",
       "      <td>10000</td>\n",
       "      <td>40.76954506851368</td>\n",
       "      <td>-73.97222659197847</td>\n",
       "    </tr>\n",
       "    <tr>\n",
       "      <th>2</th>\n",
       "      <td>10001</td>\n",
       "      <td>40.751847443470716</td>\n",
       "      <td>-73.99469438935554</td>\n",
       "    </tr>\n",
       "    <tr>\n",
       "      <th>3</th>\n",
       "      <td>10002</td>\n",
       "      <td>40.71426898709156</td>\n",
       "      <td>-73.99414186810355</td>\n",
       "    </tr>\n",
       "    <tr>\n",
       "      <th>4</th>\n",
       "      <td>10003</td>\n",
       "      <td>40.7341903980676</td>\n",
       "      <td>-73.99341484788401</td>\n",
       "    </tr>\n",
       "  </tbody>\n",
       "</table>\n",
       "</div>"
      ],
      "text/plain": [
       "  incident_zip            latitude           longitude\n",
       "0        00083   40.77685721094645  -73.97289511656156\n",
       "1        10000   40.76954506851368  -73.97222659197847\n",
       "2        10001  40.751847443470716  -73.99469438935554\n",
       "3        10002   40.71426898709156  -73.99414186810355\n",
       "4        10003    40.7341903980676  -73.99341484788401"
      ]
     },
     "execution_count": 151,
     "metadata": {},
     "output_type": "execute_result"
    }
   ],
   "source": [
    "zipcode=df[['incident_zip','latitude','longitude']].drop_duplicates()\n",
    "zipcode=zipcode.dropna() #dropping rows with missing values\n",
    "zipcode = zipcode.sort_values(['incident_zip'],ascending=False) #sort by complaint_rate\n",
    "zipcode = zipcode.groupby('incident_zip').first()\n",
    "zipcode.reset_index(inplace=True) #converts labels to column\n",
    "print(zipcode.shape)\n",
    "zipcode.head()"
   ]
  },
  {
   "cell_type": "markdown",
   "metadata": {},
   "source": [
    "#### 5.2.4. Merge Latitue & Longitude data with monthly zipcode level complaint rates "
   ]
  },
  {
   "cell_type": "code",
   "execution_count": 156,
   "metadata": {},
   "outputs": [
    {
     "data": {
      "text/html": [
       "<div>\n",
       "<style scoped>\n",
       "    .dataframe tbody tr th:only-of-type {\n",
       "        vertical-align: middle;\n",
       "    }\n",
       "\n",
       "    .dataframe tbody tr th {\n",
       "        vertical-align: top;\n",
       "    }\n",
       "\n",
       "    .dataframe thead th {\n",
       "        text-align: right;\n",
       "    }\n",
       "</style>\n",
       "<table border=\"1\" class=\"dataframe\">\n",
       "  <thead>\n",
       "    <tr style=\"text-align: right;\">\n",
       "      <th></th>\n",
       "      <th>index</th>\n",
       "      <th>incident_zip</th>\n",
       "      <th>month</th>\n",
       "      <th>year</th>\n",
       "      <th>num_complaints</th>\n",
       "      <th>Population</th>\n",
       "      <th>borough</th>\n",
       "      <th>complaint_index</th>\n",
       "      <th>complaint_index_1</th>\n",
       "      <th>complaint_rate</th>\n",
       "      <th>latitude</th>\n",
       "      <th>longitude</th>\n",
       "    </tr>\n",
       "  </thead>\n",
       "  <tbody>\n",
       "    <tr>\n",
       "      <th>0</th>\n",
       "      <td>1209</td>\n",
       "      <td>10001.0</td>\n",
       "      <td>5</td>\n",
       "      <td>2021</td>\n",
       "      <td>31</td>\n",
       "      <td>21102.0</td>\n",
       "      <td>MANHATTAN</td>\n",
       "      <td>0.001469</td>\n",
       "      <td>NaN</td>\n",
       "      <td>NaN</td>\n",
       "      <td>40.751847443470716</td>\n",
       "      <td>-73.99469438935554</td>\n",
       "    </tr>\n",
       "    <tr>\n",
       "      <th>1</th>\n",
       "      <td>689</td>\n",
       "      <td>10001.0</td>\n",
       "      <td>6</td>\n",
       "      <td>2021</td>\n",
       "      <td>135</td>\n",
       "      <td>21102.0</td>\n",
       "      <td>MANHATTAN</td>\n",
       "      <td>0.006397</td>\n",
       "      <td>0.001469</td>\n",
       "      <td>0.004928</td>\n",
       "      <td>40.751847443470716</td>\n",
       "      <td>-73.99469438935554</td>\n",
       "    </tr>\n",
       "    <tr>\n",
       "      <th>2</th>\n",
       "      <td>759</td>\n",
       "      <td>10001.0</td>\n",
       "      <td>7</td>\n",
       "      <td>2021</td>\n",
       "      <td>113</td>\n",
       "      <td>21102.0</td>\n",
       "      <td>MANHATTAN</td>\n",
       "      <td>0.005355</td>\n",
       "      <td>0.006397</td>\n",
       "      <td>-0.001043</td>\n",
       "      <td>40.751847443470716</td>\n",
       "      <td>-73.99469438935554</td>\n",
       "    </tr>\n",
       "    <tr>\n",
       "      <th>3</th>\n",
       "      <td>810</td>\n",
       "      <td>10001.0</td>\n",
       "      <td>8</td>\n",
       "      <td>2021</td>\n",
       "      <td>101</td>\n",
       "      <td>21102.0</td>\n",
       "      <td>MANHATTAN</td>\n",
       "      <td>0.004786</td>\n",
       "      <td>0.005355</td>\n",
       "      <td>-0.000569</td>\n",
       "      <td>40.751847443470716</td>\n",
       "      <td>-73.99469438935554</td>\n",
       "    </tr>\n",
       "    <tr>\n",
       "      <th>4</th>\n",
       "      <td>653</td>\n",
       "      <td>10001.0</td>\n",
       "      <td>9</td>\n",
       "      <td>2021</td>\n",
       "      <td>144</td>\n",
       "      <td>21102.0</td>\n",
       "      <td>MANHATTAN</td>\n",
       "      <td>0.006824</td>\n",
       "      <td>0.004786</td>\n",
       "      <td>0.002038</td>\n",
       "      <td>40.751847443470716</td>\n",
       "      <td>-73.99469438935554</td>\n",
       "    </tr>\n",
       "  </tbody>\n",
       "</table>\n",
       "</div>"
      ],
      "text/plain": [
       "   index  incident_zip  month  year  num_complaints  Population    borough  \\\n",
       "0   1209       10001.0      5  2021              31     21102.0  MANHATTAN   \n",
       "1    689       10001.0      6  2021             135     21102.0  MANHATTAN   \n",
       "2    759       10001.0      7  2021             113     21102.0  MANHATTAN   \n",
       "3    810       10001.0      8  2021             101     21102.0  MANHATTAN   \n",
       "4    653       10001.0      9  2021             144     21102.0  MANHATTAN   \n",
       "\n",
       "   complaint_index  complaint_index_1  complaint_rate            latitude  \\\n",
       "0         0.001469                NaN             NaN  40.751847443470716   \n",
       "1         0.006397           0.001469        0.004928  40.751847443470716   \n",
       "2         0.005355           0.006397       -0.001043  40.751847443470716   \n",
       "3         0.004786           0.005355       -0.000569  40.751847443470716   \n",
       "4         0.006824           0.004786        0.002038  40.751847443470716   \n",
       "\n",
       "            longitude  \n",
       "0  -73.99469438935554  \n",
       "1  -73.99469438935554  \n",
       "2  -73.99469438935554  \n",
       "3  -73.99469438935554  \n",
       "4  -73.99469438935554  "
      ]
     },
     "execution_count": 156,
     "metadata": {},
     "output_type": "execute_result"
    }
   ],
   "source": [
    "zipcode.incident_zip = pd.to_numeric(zipcode.incident_zip, errors='coerce')\n",
    "Loud_music10=Loud_music8.merge(zipcode, on='incident_zip', how='left')\n",
    "Loud_music10.head()"
   ]
  },
  {
   "cell_type": "markdown",
   "metadata": {},
   "source": [
    "#### 5.2.5. Animation that shows how the complaint rates evolved over the months in 2021 by zipcode "
   ]
  },
  {
   "cell_type": "code",
   "execution_count": 179,
   "metadata": {},
   "outputs": [],
   "source": [
    "# Takes in a subsetted data frame with the data for a given month, and the name of the month as a string. \n",
    "# Returns an animated mapbox density heatmap to show variation in call volume across time and space.\"\"\"\n",
    "# Loud_music10.latitude = pd.to_numeric(Loud_music10.latitude, errors='coerce')\n",
    "# Loud_music10.longitude = pd.to_numeric(Loud_music10.longitude, errors='coerce')\n",
    "\n",
    "\n",
    "# def plot_calls(month_df, year):\n",
    "#     fig = px.density_mapbox(month_df, lat=month_df['latitude'], \n",
    "#                             lon=month_df['longitude'], \n",
    "#                             radius=2,\n",
    "#                             animation_frame=month_df['month'],\n",
    "#                             hover_name=None, \n",
    "#                             hover_data=['complaint_rate'],\n",
    "#                             width=550, height=550,\n",
    "#     color_continuous_scale=px.colors.sequential.Inferno\n",
    "#                                                        )\n",
    "#     fig.update_layout(mapbox_style=\"carto-positron\",   \n",
    "#                       mapbox_zoom=8.5, mapbox_center = {\n",
    "#                       \"lat\": 40.6885, \"lon\": -73.93211},)\n",
    "                      \n",
    "#     fig.layout.coloraxis.showscale = False    \n",
    "                      \n",
    "#     fig.update_layout(title={\n",
    "#         'text': 'Call Volume in {}'.format(year),\n",
    "#         'x':0.5,\n",
    "#         'xanchor': 'center',\n",
    "#         'yanchor': 'top'}),\n",
    "\n",
    "#     font=dict(family=\"silom\",\n",
    "#               size=14, color=\"#58508d\")\n",
    "\n",
    "#     fig.update_layout(transition = {'duration': 10})\n",
    "\n",
    "#     fig.show()"
   ]
  },
  {
   "cell_type": "code",
   "execution_count": 180,
   "metadata": {
    "scrolled": false
   },
   "outputs": [],
   "source": [
    "# plot_calls(Loud_music10,2021)"
   ]
  },
  {
   "cell_type": "code",
   "execution_count": null,
   "metadata": {},
   "outputs": [],
   "source": []
  }
 ],
 "metadata": {
  "kernelspec": {
   "display_name": "Python 3 (ipykernel)",
   "language": "python",
   "name": "python3"
  },
  "language_info": {
   "codemirror_mode": {
    "name": "ipython",
    "version": 3
   },
   "file_extension": ".py",
   "mimetype": "text/x-python",
   "name": "python",
   "nbconvert_exporter": "python",
   "pygments_lexer": "ipython3",
   "version": "3.8.5"
  }
 },
 "nbformat": 4,
 "nbformat_minor": 4
}
